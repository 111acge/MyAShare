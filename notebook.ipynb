{
 "cells": [
  {
   "metadata": {
    "ExecuteTime": {
     "end_time": "2025-02-13T14:53:03.368839Z",
     "start_time": "2025-02-13T14:53:03.366008Z"
    }
   },
   "cell_type": "code",
   "source": [
    "#####################\n",
    "### 导入部分 ###\n",
    "#####################\n",
    "import akshare as ak\n",
    "import pandas as pd\n",
    "import numpy as np\n",
    "import torch\n",
    "import torch.nn as nn\n",
    "from sklearn.preprocessing import MinMaxScaler\n",
    "from sklearn.model_selection import ParameterGrid\n",
    "from sklearn.metrics import mean_squared_error\n",
    "from datetime import datetime, timedelta\n",
    "from collections import Counter\n",
    "\n",
    "# 显示所有列(参数设置为None代表显示所有行，也可以自行设置数字)\n",
    "pd.set_option('display.max_columns', None)\n",
    "# 显示所有行\n",
    "pd.set_option('display.max_rows', None)\n",
    "# 设置数据的显示长度，默认为50\n",
    "pd.set_option('max_colwidth', 200)\n",
    "# 禁止自动换行(设置为Flase不自动换行，True反之)\n",
    "pd.set_option('expand_frame_repr', False)\n",
    "\n",
    "KEYPOINT = {}"
   ],
   "id": "7917a789c0a5f179",
   "outputs": [],
   "execution_count": 13
  },
  {
   "metadata": {
    "ExecuteTime": {
     "end_time": "2025-02-13T14:53:25.924931Z",
     "start_time": "2025-02-13T14:53:03.386203Z"
    }
   },
   "cell_type": "code",
   "source": [
    "#####################\n",
    "###  公司基本信息  ###\n",
    "#####################\n",
    "def get_company_info(code):\n",
    "    # 获取市场前缀\n",
    "    symbol = f\"{code}\"\n",
    "    info_dict = {}\n",
    "\n",
    "    try:\n",
    "        # 基础信息\n",
    "        base_info = ak.stock_individual_info_em(symbol=symbol)\n",
    "        info_dict['股票简称'] = base_info.loc[base_info['item'] == '股票简称', 'value'].values[0]\n",
    "        info_dict['行业'] = base_info.loc[base_info['item'] == '行业', 'value'].values[0]\n",
    "        info_dict['上市时间'] = base_info.loc[base_info['item'] == '上市时间', 'value'].values[0]\n",
    "    except Exception as e:\n",
    "        print(f\"基础信息获取失败: {str(e)}\")\n",
    "        info_dict.update({'股票简称': '未知', '行业': '未知', '上市时间': '未知'})\n",
    "\n",
    "    try:\n",
    "        # 发行信息\n",
    "        stock_ipo_info_df = ak.stock_ipo_info(stock=symbol)\n",
    "        if not stock_ipo_info_df.empty:\n",
    "            info_dict['发行价'] = stock_ipo_info_df.loc[stock_ipo_info_df['item'] == '发行价(元)', 'value'].values[0]\n",
    "        else:\n",
    "            info_dict['发行价'] = '暂无数据'\n",
    "    except Exception as e:\n",
    "        print(f\"发行价获取失败: {str(e)}\")\n",
    "        info_dict['发行价'] = '暂无数据'\n",
    "\n",
    "    try:\n",
    "        # 分红信息\n",
    "        stock_history_dividend_df = ak.stock_history_dividend()\n",
    "        dividend_info = stock_history_dividend_df[stock_history_dividend_df['代码'] == code]\n",
    "        # 如果找到记录，获取分红次数列的值；如果没找到记录，则为0\n",
    "        info_dict['分红次数'] = dividend_info['分红次数'].iloc[0] if not dividend_info.empty else 0\n",
    "    except Exception as e:\n",
    "        print(f\"分红信息获取失败: {str(e)}\")\n",
    "        info_dict['分红次数'] = 0\n",
    "\n",
    "    try:\n",
    "        # 机构参与度\n",
    "        jg_info = ak.stock_comment_detail_zlkp_jgcyd_em(symbol=symbol)\n",
    "        info_dict['机构参与度'] = f\"{jg_info['机构参与度'].values[0]}%\"\n",
    "    except Exception as e:\n",
    "        print(f\"机构参与度获取失败: {str(e)}\")\n",
    "        info_dict['机构参与度'] = '暂无数据'\n",
    "\n",
    "    try:\n",
    "        # 市场成本\n",
    "        cost_info = ak.stock_comment_detail_scrd_cost_em(symbol=symbol)\n",
    "        info_dict['市场成本'] = f\"{cost_info['市场成本'].values[0]}元\"\n",
    "    except Exception as e:\n",
    "        print(f\"市场成本获取失败: {str(e)}\")\n",
    "        info_dict['市场成本'] = '暂无数据'\n",
    "\n",
    "    # 格式化输出\n",
    "    print(f\"\\n===== {code} 公司基本信息 =====\")\n",
    "    print(f\"股票简称：{info_dict['股票简称']}\")\n",
    "    print(f\"所属行业：{info_dict['行业']}\")\n",
    "    print(f\"上市时间：{info_dict['上市时间']}\")\n",
    "    print(f\"发行价格：{info_dict['发行价']}\")\n",
    "    print(f\"分红次数：{info_dict['分红次数']}次\")\n",
    "    print(f\"机构参与：{info_dict['机构参与度']}\")\n",
    "    print(f\"成本均价：{info_dict['市场成本']}\")\n",
    "\n",
    "    return info_dict\n",
    "\n",
    "\n",
    "stock_code = input(\"请输入6位股票代码: \")\n",
    "company_info = get_company_info(stock_code)"
   ],
   "id": "34d9722a674bcce3",
   "outputs": [
    {
     "name": "stdout",
     "output_type": "stream",
     "text": [
      "\n",
      "===== 603886 公司基本信息 =====\n",
      "股票简称：元祖股份\n",
      "所属行业：食品饮料\n",
      "上市时间：20161228\n",
      "发行价格：10.16\n",
      "分红次数：8次\n",
      "机构参与：19.49556%\n",
      "成本均价：20.52元\n"
     ]
    }
   ],
   "execution_count": 14
  },
  {
   "metadata": {
    "ExecuteTime": {
     "end_time": "2025-02-13T14:53:26.703637Z",
     "start_time": "2025-02-13T14:53:25.934133Z"
    }
   },
   "cell_type": "code",
   "source": [
    "#####################\n",
    "###  获取历史数据   ###\n",
    "#####################\n",
    "def get_history_data(code):\n",
    "    symbol = f\"{code}\"\n",
    "    days = 365\n",
    "    end_date = datetime.now().strftime(\"%Y%m%d\")\n",
    "    start_date = (datetime.now() - timedelta(days)).strftime(\"%Y%m%d\")\n",
    "    df = ak.stock_zh_a_hist(symbol=symbol, period=\"daily\", start_date=start_date, end_date=end_date, adjust=\"qfq\")\n",
    "    print(f\"历史{days}天数据获取完成，共获取{len(df)}条记录\")\n",
    "    return df\n",
    "\n",
    "\n",
    "history_df = get_history_data(stock_code)"
   ],
   "id": "ac4ad8a7fa934a7",
   "outputs": [
    {
     "name": "stdout",
     "output_type": "stream",
     "text": [
      "历史365天数据获取完成，共获取239条记录\n"
     ]
    }
   ],
   "execution_count": 15
  },
  {
   "metadata": {
    "ExecuteTime": {
     "end_time": "2025-02-13T14:53:26.717586Z",
     "start_time": "2025-02-13T14:53:26.712833Z"
    }
   },
   "cell_type": "code",
   "source": [
    "#####################\n",
    "###分析交易量的均匀性###\n",
    "#####################\n",
    "def analyze_volume(data):\n",
    "    if '成交量' not in data.columns:\n",
    "        print(\"数据中没有成交量信息，请检查数据是否完整。\")\n",
    "        return\n",
    "\n",
    "    volume_data = data['成交量'].astype(float)  # 确保成交量是数值类型\n",
    "    volume_mean = volume_data.mean()\n",
    "    volume_std = volume_data.std()\n",
    "\n",
    "    print(f\"\\n交易量分析:\")\n",
    "    print(f\"交易量均值: {volume_mean:.2f}\")\n",
    "    print(f\"交易量标准差: {volume_std:.2f}\")\n",
    "\n",
    "    # 判断交易量的均匀性\n",
    "    if volume_std < (0.5 * volume_mean):\n",
    "        print(\"交易量分布较为均匀。\")\n",
    "        keypoint = \"\"\n",
    "    else:\n",
    "        print(\"交易量分布不均匀，可能存在非量化资金的大量交易行为。\")\n",
    "        keypoint = \"-\"\n",
    "\n",
    "    return keypoint\n",
    "\n",
    "\n",
    "keypoint = analyze_volume(history_df)\n",
    "KEYPOINT.setdefault('交易量分布(×-)', keypoint)"
   ],
   "id": "ce7e96bbe6285f88",
   "outputs": [
    {
     "name": "stdout",
     "output_type": "stream",
     "text": [
      "\n",
      "交易量分析:\n",
      "交易量均值: 22231.09\n",
      "交易量标准差: 15466.70\n",
      "交易量分布不均匀，可能存在非量化资金的大量交易行为。\n"
     ]
    },
    {
     "data": {
      "text/plain": [
       "'-'"
      ]
     },
     "execution_count": 16,
     "metadata": {},
     "output_type": "execute_result"
    }
   ],
   "execution_count": 16
  },
  {
   "metadata": {
    "ExecuteTime": {
     "end_time": "2025-02-13T14:53:26.734267Z",
     "start_time": "2025-02-13T14:53:26.729552Z"
    }
   },
   "cell_type": "code",
   "source": [
    "#####################\n",
    "###   分析价格波动  ###\n",
    "#####################\n",
    "def analyze_price_fluctuation(data):\n",
    "    # 检查数据是否包含收盘价\n",
    "    if '收盘' not in data.columns:\n",
    "        print(\"数据中没有收盘价信息，请检查数据是否完整。\")\n",
    "        return\n",
    "\n",
    "    # 计算日收益率\n",
    "    data['日收益率'] = data['收盘'].pct_change()\n",
    "\n",
    "    # 计算波动率（标准差）\n",
    "    volatility = data['日收益率'].std()\n",
    "\n",
    "    print(f\"\\n价格波动分析:\")\n",
    "    print(f\"价格波动率（标准差）: {volatility:.2%}\")\n",
    "\n",
    "    # 判断价格波动是否存在规律\n",
    "    if volatility < 0.015:  # 假设波动率小于1.5%为规律波动\n",
    "        print(\"价格波动较为规律，可能存在量化资金的控制。\")\n",
    "        keypoint = \"×\"\n",
    "    else:\n",
    "        print(\"价格波动较大，可能存在非量化资金的大量交易行为。\")\n",
    "        keypoint = \"-\"\n",
    "\n",
    "    return keypoint\n",
    "\n",
    "\n",
    "keypoint = analyze_price_fluctuation(history_df)\n",
    "KEYPOINT.setdefault(\"价格波动(×-)\", keypoint)"
   ],
   "id": "caad6e6d0f3c8c5",
   "outputs": [
    {
     "name": "stdout",
     "output_type": "stream",
     "text": [
      "\n",
      "价格波动分析:\n",
      "价格波动率（标准差）: 1.83%\n",
      "价格波动较大，可能存在非量化资金的大量交易行为。\n"
     ]
    },
    {
     "data": {
      "text/plain": [
       "'-'"
      ]
     },
     "execution_count": 17,
     "metadata": {},
     "output_type": "execute_result"
    }
   ],
   "execution_count": 17
  },
  {
   "metadata": {
    "ExecuteTime": {
     "end_time": "2025-02-13T14:53:28.817319Z",
     "start_time": "2025-02-13T14:53:26.746150Z"
    }
   },
   "cell_type": "code",
   "source": [
    "#####################\n",
    "###   获取筹码分布  ###\n",
    "#####################\n",
    "def get_chip_distribution(code):\n",
    "    symbol = f\"{code}\"\n",
    "    df = ak.stock_cyq_em(symbol=symbol, adjust=\"qfq\")\n",
    "    latest_chip = df.iloc[-1].to_dict()\n",
    "    print(\n",
    "        f\"最新交易日筹码分布：获利比例={latest_chip['获利比例'] * 100:.2f}% 70集中度={(latest_chip['70集中度'] * 100):.2f}%\")\n",
    "\n",
    "    if latest_chip['获利比例'] <= 0.15:\n",
    "        keypoint = \"√\"\n",
    "    else:\n",
    "        keypoint = \"×\"\n",
    "    return latest_chip, keypoint\n",
    "\n",
    "\n",
    "_, keypoint = get_chip_distribution(stock_code)\n",
    "KEYPOINT.setdefault(\"筹码获利比例(√×)\", keypoint)"
   ],
   "id": "fbc121e30a2defb3",
   "outputs": [
    {
     "name": "stdout",
     "output_type": "stream",
     "text": [
      "最新交易日筹码分布：获利比例=25.44% 70集中度=6.86%\n"
     ]
    },
    {
     "data": {
      "text/plain": [
       "'×'"
      ]
     },
     "execution_count": 18,
     "metadata": {},
     "output_type": "execute_result"
    }
   ],
   "execution_count": 18
  },
  {
   "metadata": {
    "ExecuteTime": {
     "end_time": "2025-02-13T14:53:28.831547Z",
     "start_time": "2025-02-13T14:53:28.824409Z"
    }
   },
   "cell_type": "code",
   "source": [
    "#####################\n",
    "###  BBIBOLL计算   ###\n",
    "#####################\n",
    "def calculate_bbiboll(df):\n",
    "    # 原有的BBIBOLL计算部分\n",
    "    df['MA3'] = df['收盘'].rolling(3).mean()\n",
    "    df['MA6'] = df['收盘'].rolling(6).mean()\n",
    "    df['MA12'] = df['收盘'].rolling(12).mean()\n",
    "    df['MA24'] = df['收盘'].rolling(24).mean()\n",
    "    df['BBIBOLL'] = (df['MA3'] + df['MA6'] + df['MA12'] + df['MA24']) / 4\n",
    "    df['UPPER'] = df['BBIBOLL'] + 2 * df['BBIBOLL'].rolling(11).std()\n",
    "    df['LOWER'] = df['BBIBOLL'] - 2 * df['BBIBOLL'].rolling(11).std()\n",
    "\n",
    "    # 获取最新数据\n",
    "    latest = df.iloc[-1]\n",
    "    latest_price = latest['收盘']\n",
    "    bbiboll_data = {\n",
    "        'BBIBOLL': latest['BBIBOLL'],\n",
    "        'UPPER': latest['UPPER'],\n",
    "        'LOWER': latest['LOWER'],\n",
    "        'latest_price': latest_price\n",
    "    }\n",
    "\n",
    "    # 打印结果\n",
    "    print(\n",
    "        f\"最新BBIBOLL值: mid={bbiboll_data['BBIBOLL']:.2f} upper={bbiboll_data['UPPER']:.2f} lower={bbiboll_data['LOWER']:.2f}\")\n",
    "    print(f\"最新收盘价: {latest_price:.2f}\")\n",
    "\n",
    "    # 判断当前价格位置\n",
    "    if latest_price > bbiboll_data['UPPER']:\n",
    "        print(\"当前价格高于BBIBOLL上轨\")\n",
    "        keypoint = \"×\"\n",
    "    elif latest_price < bbiboll_data['LOWER']:\n",
    "        print(\"当前价格低于BBIBOLL下轨\")\n",
    "        keypoint = \"√\"\n",
    "    else:\n",
    "        print(\"当前价格在BBIBOLL通道内\")\n",
    "        keypoint = \"-\"\n",
    "\n",
    "    return bbiboll_data, keypoint\n",
    "\n",
    "\n",
    "# 调用函数\n",
    "_, keypoint = calculate_bbiboll(history_df)\n",
    "KEYPOINT.setdefault(\"BBIBOLL(√-×)\", keypoint)"
   ],
   "id": "5b7dc2df4b122623",
   "outputs": [
    {
     "name": "stdout",
     "output_type": "stream",
     "text": [
      "最新BBIBOLL值: mid=13.54 upper=13.57 lower=13.50\n",
      "最新收盘价: 13.48\n",
      "当前价格低于BBIBOLL下轨\n"
     ]
    },
    {
     "data": {
      "text/plain": [
       "'√'"
      ]
     },
     "execution_count": 19,
     "metadata": {},
     "output_type": "execute_result"
    }
   ],
   "execution_count": 19
  },
  {
   "metadata": {
    "ExecuteTime": {
     "end_time": "2025-02-13T14:53:28.844517Z",
     "start_time": "2025-02-13T14:53:28.839241Z"
    }
   },
   "cell_type": "code",
   "source": [
    "def calculate_rsi(data, window=14):\n",
    "    \"\"\"\n",
    "    计算相对强弱指标（RSI），判断超买超卖状态。\n",
    "    :param data: 包含收盘价的DataFrame\n",
    "    :param window: RSI计算窗口，默认14天\n",
    "    :return: 包含RSI值的DataFrame\n",
    "    \"\"\"\n",
    "    # 计算涨跌幅\n",
    "    delta = data['收盘'].diff()\n",
    "    gain = delta.where(delta > 0, 0)  # 上涨部分\n",
    "    loss = -delta.where(delta < 0, 0)  # 下跌部分\n",
    "\n",
    "    # 计算平均涨幅和平均跌幅\n",
    "    avg_gain = gain.rolling(window).mean()\n",
    "    avg_loss = loss.rolling(window).mean()\n",
    "\n",
    "    # 计算RS值\n",
    "    rs = avg_gain / avg_loss\n",
    "    rsi = 100 - (100 / (1 + rs))\n",
    "\n",
    "    # 添加RSI列到DataFrame\n",
    "    data['RSI'] = rsi\n",
    "\n",
    "    # 判断超买超卖状态\n",
    "    latest_rsi = data['RSI'].iloc[-1]\n",
    "    if latest_rsi > 70:\n",
    "        print(f\"当前RSI值为{latest_rsi:.2f}，处于超买状态，可能存在回调风险。\")\n",
    "        keypoint = \"×\"\n",
    "    elif latest_rsi < 30:\n",
    "        print(f\"当前RSI值为{latest_rsi:.2f}，处于超卖状态，可能存在反弹机会。\")\n",
    "        keypoint = \"√\"\n",
    "    else:\n",
    "        print(f\"当前RSI值为{latest_rsi:.2f}，市场处于正常状态。\")\n",
    "        keypoint = \"-\"\n",
    "\n",
    "    return data, keypoint\n",
    "\n",
    "\n",
    "# 调用RSI计算函数\n",
    "_, keypoint = calculate_rsi(history_df)\n",
    "KEYPOINT.setdefault(\"RSI(√-×)\", keypoint)"
   ],
   "id": "a150a4b9c1ad0c76",
   "outputs": [
    {
     "name": "stdout",
     "output_type": "stream",
     "text": [
      "当前RSI值为48.36，市场处于正常状态。\n"
     ]
    },
    {
     "data": {
      "text/plain": [
       "'-'"
      ]
     },
     "execution_count": 20,
     "metadata": {},
     "output_type": "execute_result"
    }
   ],
   "execution_count": 20
  },
  {
   "metadata": {
    "ExecuteTime": {
     "end_time": "2025-02-13T14:53:28.865086Z",
     "start_time": "2025-02-13T14:53:28.859752Z"
    }
   },
   "cell_type": "code",
   "source": [
    "def calculate_macd(data, short_window=12, long_window=26, signal_window=9):\n",
    "    \"\"\"\n",
    "    计算MACD指标，判断趋势和买卖信号。\n",
    "    :param data: 包含收盘价的DataFrame\n",
    "    :param short_window: 短期EMA窗口，默认12天\n",
    "    :param long_window: 长期EMA窗口，默认26天\n",
    "    :param signal_window: 信号线窗口，默认9天\n",
    "    :return: 包含MACD指标的DataFrame\n",
    "    \"\"\"\n",
    "    # 计算短期和长期指数移动平均线\n",
    "    data['EMA_short'] = data['收盘'].ewm(span=short_window, adjust=False).mean()\n",
    "    data['EMA_long'] = data['收盘'].ewm(span=long_window, adjust=False).mean()\n",
    "\n",
    "    # 计算DIF（差离值）\n",
    "    data['DIF'] = data['EMA_short'] - data['EMA_long']\n",
    "\n",
    "    # 计算DEA（信号线）\n",
    "    data['DEA'] = data['DIF'].ewm(span=signal_window, adjust=False).mean()\n",
    "\n",
    "    # 计算MACD柱状图（DIF - DEA）\n",
    "    data['MACD'] = data['DIF'] - data['DEA']\n",
    "\n",
    "    # 判断趋势和买卖信号\n",
    "    latest_dif = data['DIF'].iloc[-1]\n",
    "    latest_dea = data['DEA'].iloc[-1]\n",
    "\n",
    "    if latest_dif > latest_dea:\n",
    "        print(\"DIF > DEA，当前趋势为多头，可能存在买入信号。\")\n",
    "        keypoint = \"√\"\n",
    "    else:\n",
    "        print(\"DIF <= DEA，当前趋势为空头，可能存在卖出信号。\")\n",
    "        keypoint = \"×\"\n",
    "\n",
    "    return data, keypoint\n",
    "\n",
    "\n",
    "# 调用MACD计算函数\n",
    "_, keypoint = calculate_macd(history_df)\n",
    "KEYPOINT.setdefault(\"MACD(√×)\", keypoint)"
   ],
   "id": "4acacdb82d4ce99c",
   "outputs": [
    {
     "name": "stdout",
     "output_type": "stream",
     "text": [
      "DIF > DEA，当前趋势为多头，可能存在买入信号。\n"
     ]
    },
    {
     "data": {
      "text/plain": [
       "'√'"
      ]
     },
     "execution_count": 21,
     "metadata": {},
     "output_type": "execute_result"
    }
   ],
   "execution_count": 21
  },
  {
   "metadata": {
    "ExecuteTime": {
     "end_time": "2025-02-13T14:53:28.920327Z",
     "start_time": "2025-02-13T14:53:28.875576Z"
    }
   },
   "cell_type": "code",
   "source": [
    "def calculate_kdj(data, window=9):\n",
    "    \"\"\"\n",
    "    计算KDJ随机指标，判断买入信号。\n",
    "    :param data: 包含收盘价、最高价、最低价的DataFrame\n",
    "    :param window: KDJ计算窗口，默认9天\n",
    "    :return: 包含KDJ指标的DataFrame\n",
    "    \"\"\"\n",
    "    # 检查数据长度是否足够\n",
    "    if len(data) < window:\n",
    "        print(f\"数据长度不足{window}天，无法计算KDJ指标。\")\n",
    "        return data\n",
    "\n",
    "    # 检查数据是否完整\n",
    "    required_columns = ['收盘', '最高', '最低']\n",
    "    if not all(col in data.columns for col in required_columns):\n",
    "        print(\"数据中缺少必要的列，请确保包含'收盘', '最高', '最低'列。\")\n",
    "        return data\n",
    "\n",
    "    # 检查数据是否有缺失值\n",
    "    if data[required_columns].isnull().values.any():\n",
    "        print(\"数据中存在缺失值，正在填充...\")\n",
    "        data[required_columns] = data[required_columns].fillna(method='ffill')  # 用前值填充\n",
    "\n",
    "    # 计算RSV值\n",
    "    data['RSV'] = ((data['收盘'] - data['最低'].rolling(window).min()) /\n",
    "                   (data['最高'].rolling(window).max() - data['最低'].rolling(window).min())) * 100\n",
    "\n",
    "    # 避免除零错误\n",
    "    data['RSV'] = data['RSV'].replace([np.inf, -np.inf], np.nan)  # 替换无穷值为NaN\n",
    "    data['RSV'] = data['RSV'].fillna(0)  # 如果有NaN，填充为0\n",
    "\n",
    "    # 初始化K和D值为浮点数\n",
    "    data['K'] = 50.0  # 初始值为浮点数\n",
    "    data['D'] = 50.0  # 初始值为浮点数\n",
    "\n",
    "    # 计算K和D值\n",
    "    for i in range(1, len(data)):\n",
    "        data.loc[data.index[i], 'K'] = (2 / 3) * data.loc[data.index[i - 1], 'K'] + (1 / 3) * data.loc[\n",
    "            data.index[i], 'RSV']\n",
    "        data.loc[data.index[i], 'D'] = (2 / 3) * data.loc[data.index[i - 1], 'D'] + (1 / 3) * data.loc[\n",
    "            data.index[i], 'K']\n",
    "\n",
    "    # 计算J值\n",
    "    data['J'] = 3 * data['K'] - 2 * data['D']\n",
    "\n",
    "    # 判断买入条件：K > D 且两者从超卖区（<20）回升\n",
    "    data['K_prev'] = data['K'].shift(1)\n",
    "    data['D_prev'] = data['D'].shift(1)\n",
    "\n",
    "    # 买入信号条件\n",
    "    buy_condition = (\n",
    "            (data['K'] > data['D']) &\n",
    "            (data['K_prev'] < 20) &\n",
    "            (data['D_prev'] < 20)\n",
    "    )\n",
    "\n",
    "    # 标记买入信号\n",
    "    data['Buy_Signal'] = buy_condition\n",
    "\n",
    "    # 检查是否存在NaN值\n",
    "    if data[['K', 'D', 'J']].isnull().values.any():\n",
    "        print(\"警告：KDJ指标计算结果中存在NaN值，请检查数据完整性。\")\n",
    "\n",
    "    # 打印最新KDJ值和买入信号\n",
    "    latest_k = data['K'].iloc[-1]\n",
    "    latest_d = data['D'].iloc[-1]\n",
    "    latest_j = data['J'].iloc[-1]\n",
    "    latest_buy_signal = data['Buy_Signal'].iloc[-1]\n",
    "\n",
    "    print(f\"最新KDJ值: K={latest_k:.2f}, D={latest_d:.2f}, J={latest_j:.2f}\")\n",
    "    if latest_buy_signal:\n",
    "        print(\"当前存在买入信号：K > D 且两者从超卖区回升。\")\n",
    "        keypoint = \"√\"\n",
    "    else:\n",
    "        print(\"当前不存在买入信号。\")\n",
    "        keypoint = \"-\"\n",
    "\n",
    "    return data, keypoint\n",
    "\n",
    "\n",
    "# 调用KDJ计算函数\n",
    "_, keypoint = calculate_kdj(history_df)\n",
    "KEYPOINT.setdefault(\"KDJ(√-×)\", keypoint)"
   ],
   "id": "48e7279e825a9fb6",
   "outputs": [
    {
     "name": "stdout",
     "output_type": "stream",
     "text": [
      "最新KDJ值: K=60.44, D=63.52, J=54.27\n",
      "当前不存在买入信号。\n"
     ]
    },
    {
     "data": {
      "text/plain": [
       "'-'"
      ]
     },
     "execution_count": 22,
     "metadata": {},
     "output_type": "execute_result"
    }
   ],
   "execution_count": 22
  },
  {
   "metadata": {
    "ExecuteTime": {
     "end_time": "2025-02-13T14:53:28.987032Z",
     "start_time": "2025-02-13T14:53:28.982624Z"
    }
   },
   "cell_type": "code",
   "source": [
    "print(company_info)\n",
    "print(KEYPOINT)\n",
    "value_counts = Counter(KEYPOINT.values())\n",
    "print(value_counts)"
   ],
   "id": "f0347a756acae3cf",
   "outputs": [
    {
     "name": "stdout",
     "output_type": "stream",
     "text": [
      "{'股票简称': '元祖股份', '行业': '食品饮料', '上市时间': 20161228, '发行价': '10.16', '分红次数': np.int64(8), '机构参与度': '19.49556%', '市场成本': '20.52元'}\n",
      "{'交易量分布(×-)': '-', '价格波动(×-)': '-', '筹码获利比例(√×)': '×', 'BBIBOLL(√-×)': '√', 'RSI(√-×)': '-', 'MACD(√×)': '√', 'KDJ(√-×)': '-'}\n",
      "Counter({'-': 4, '√': 2, '×': 1})\n"
     ]
    }
   ],
   "execution_count": 23
  }
 ],
 "metadata": {
  "kernelspec": {
   "display_name": "Python 3",
   "language": "python",
   "name": "python3"
  },
  "language_info": {
   "codemirror_mode": {
    "name": "ipython",
    "version": 2
   },
   "file_extension": ".py",
   "mimetype": "text/x-python",
   "name": "python",
   "nbconvert_exporter": "python",
   "pygments_lexer": "ipython2",
   "version": "2.7.6"
  }
 },
 "nbformat": 4,
 "nbformat_minor": 5
}
